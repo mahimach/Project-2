{
 "cells": [
  {
   "cell_type": "code",
   "execution_count": 10,
   "id": "569db813",
   "metadata": {},
   "outputs": [
    {
     "name": "stdout",
     "output_type": "stream",
     "text": [
      "Data scraping and saving completed.\n"
     ]
    }
   ],
   "source": [
    "import pandas as pd\n",
    "import requests\n",
    "import json\n",
    "from datetime import datetime, timedelta\n",
    "\n",
    "date = \"2024-07-07\"\n",
    "def get_vegetable_data(date):\n",
    "    url = f\"https://vegetablemarketprice.com/api/dataapi/market/maharashtra/daywisedata?date={date}\"\n",
    "    headers = {\n",
    "    \"User-Agent\": \"Mozilla/5.0 (Windows NT 10.0; Win64; x64) AppleWebKit/537.36 (KHTML, like Gecko) Chrome/110.0.0.0 Safari/537.36\"\n",
    "}\n",
    "    \n",
    "    response = requests.get(url, headers=headers)\n",
    "    if response.status_code == 200:\n",
    "        return json.loads(response.text)[\"data\"]\n",
    "    else:\n",
    "        print(f\"Failed to retrieve data for {date}\")\n",
    "        return []\n",
    "\n",
    "# Initialize a list to store the data\n",
    "data_list = []\n",
    "\n",
    "# Define the date range\n",
    "start_date = datetime(2024, 5, 1)\n",
    "end_date = datetime(2024, 6, 30)\n",
    "\n",
    "# Loop through each date in the specified range\n",
    "current_date = start_date\n",
    "while current_date <= end_date:\n",
    "    date_str = current_date.strftime(\"%Y-%m-%d\")\n",
    "    daily_data = get_vegetable_data(date_str)\n",
    "    \n",
    "    # Process each entry in the daily data\n",
    "    for entry in daily_data:\n",
    "        data_list.append({\n",
    "            \"Date\": date_str,\n",
    "            \"State\": \"Maharashtra\",\n",
    "            \"Vegetable Name\": entry.get(\"vegetablename\", \"N/A\"),\n",
    "            \"Wholesale Price\": entry.get(\"price\", \"N/A\"),\n",
    "            \"Retail Price\": entry.get(\"retailprice\", \"N/A\"),\n",
    "            \"Mall Price\": entry.get(\"shopingmallprice\", \"N/A\"),\n",
    "            \"Unit\": entry.get(\"units\", \"N/A\"),\n",
    "            \"Vegetable Image\": entry.get(\"vegetableimage\", \"N/A\")\n",
    "        })\n",
    "    \n",
    "    current_date += timedelta(days=1)\n",
    "\n",
    "# Convert the data into a pandas DataFrame\n",
    "df = pd.DataFrame(data_list)\n",
    "\n",
    "# Save the DataFrame to a CSV file\n",
    "df.to_csv(\"VegMarketData_May_June_2024.csv\", index=False)\n",
    "df.head()\n",
    "print(\"Data scraping and saving completed.\")"
   ]
  },
  {
   "cell_type": "code",
   "execution_count": null,
   "id": "2df3fa48",
   "metadata": {},
   "outputs": [],
   "source": []
  }
 ],
 "metadata": {
  "kernelspec": {
   "display_name": "Python 3 (ipykernel)",
   "language": "python",
   "name": "python3"
  },
  "language_info": {
   "codemirror_mode": {
    "name": "ipython",
    "version": 3
   },
   "file_extension": ".py",
   "mimetype": "text/x-python",
   "name": "python",
   "nbconvert_exporter": "python",
   "pygments_lexer": "ipython3",
   "version": "3.9.12"
  }
 },
 "nbformat": 4,
 "nbformat_minor": 5
}
